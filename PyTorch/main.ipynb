{
 "cells": [
  {
   "cell_type": "code",
   "execution_count": 14,
   "id": "f8403e77-68b3-47ef-a1c3-a90fc69557a0",
   "metadata": {},
   "outputs": [],
   "source": [
    "from torchvision import datasets\n",
    "from torchvision.transforms import ToTensor\n",
    "# Ignore deprecated warnings\n",
    "import warnings\n",
    "warnings.filterwarnings(\"ignore\", category=UserWarning)"
   ]
  },
  {
   "cell_type": "code",
   "execution_count": 2,
   "id": "dd301eac-122f-43b2-8f12-22c4a3f36d6a",
   "metadata": {},
   "outputs": [],
   "source": [
    "train_data = datasets.MNIST(\n",
    "    root = 'data',\n",
    "    train = True,\n",
    "    transform = ToTensor(),\n",
    "    download = True\n",
    ")\n",
    "\n",
    "test_data = datasets.MNIST(\n",
    "    root = 'data',\n",
    "    train = False,\n",
    "    transform = ToTensor(),\n",
    "    download = True\n",
    ")"
   ]
  },
  {
   "cell_type": "code",
   "execution_count": 3,
   "id": "ccddbc00-f23d-4020-8b90-219a267957c9",
   "metadata": {},
   "outputs": [
    {
     "data": {
      "text/plain": [
       "Dataset MNIST\n",
       "    Number of datapoints: 60000\n",
       "    Root location: data\n",
       "    Split: Train\n",
       "    StandardTransform\n",
       "Transform: ToTensor()"
      ]
     },
     "execution_count": 3,
     "metadata": {},
     "output_type": "execute_result"
    }
   ],
   "source": [
    "train_data"
   ]
  },
  {
   "cell_type": "code",
   "execution_count": 4,
   "id": "43d4aaf1-6393-4344-9882-543d59a6f66e",
   "metadata": {},
   "outputs": [
    {
     "data": {
      "text/plain": [
       "torch.Size([60000, 28, 28])"
      ]
     },
     "execution_count": 4,
     "metadata": {},
     "output_type": "execute_result"
    }
   ],
   "source": [
    "train_data.data.shape"
   ]
  },
  {
   "cell_type": "code",
   "execution_count": 5,
   "id": "17e0b708-95f0-488e-9249-6b065b1ad9b0",
   "metadata": {},
   "outputs": [
    {
     "data": {
      "text/plain": [
       "tensor([5, 0, 4,  ..., 5, 6, 8])"
      ]
     },
     "execution_count": 5,
     "metadata": {},
     "output_type": "execute_result"
    }
   ],
   "source": [
    "train_data.targets"
   ]
  },
  {
   "cell_type": "code",
   "execution_count": 6,
   "id": "e1ab6692-8fef-429e-adda-78822d819ba9",
   "metadata": {},
   "outputs": [],
   "source": [
    "from torch.utils.data import DataLoader\n",
    "\n",
    "loaders = {\n",
    "    'train' : DataLoader(train_data,\n",
    "                         batch_size=100,\n",
    "                         shuffle=True,\n",
    "                         num_workers=1),\n",
    "    'test' : DataLoader(test_data,\n",
    "                        batch_size=100,\n",
    "                        shuffle=True,\n",
    "                        num_workers=1)\n",
    "}"
   ]
  },
  {
   "cell_type": "code",
   "execution_count": 7,
   "id": "3062d9a3-a30d-4d6b-9774-1b844140d9fc",
   "metadata": {},
   "outputs": [
    {
     "data": {
      "text/plain": [
       "{'train': <torch.utils.data.dataloader.DataLoader at 0x1e033e95050>,\n",
       " 'test': <torch.utils.data.dataloader.DataLoader at 0x1e033e96490>}"
      ]
     },
     "execution_count": 7,
     "metadata": {},
     "output_type": "execute_result"
    }
   ],
   "source": [
    "loaders"
   ]
  },
  {
   "cell_type": "code",
   "execution_count": 8,
   "id": "47a769c9-cc8e-4448-a932-f032da0f580d",
   "metadata": {},
   "outputs": [],
   "source": [
    "import torch.nn as nn\n",
    "import torch.nn.functional as F\n",
    "import torch.optim as optim"
   ]
  },
  {
   "cell_type": "code",
   "execution_count": 9,
   "id": "d030f393-581c-41f2-8792-8f1e1fe2834a",
   "metadata": {},
   "outputs": [],
   "source": [
    "class CNN(nn.Module):\n",
    "\n",
    "    def __init__(self):\n",
    "        super(CNN, self).__init__()\n",
    "        \n",
    "        self.conv1 = nn.Conv2d(1, 10, kernel_size=5)\n",
    "        self.conv2 = nn.Conv2d(10, 20, kernel_size=5)\n",
    "        self.conv2_drop = nn.Dropout2d()\n",
    "        self.fc1 = nn.Linear(320, 50)\n",
    "        self.fc2 = nn.Linear(50, 10)\n",
    "\n",
    "    def forward(self, x):\n",
    "        x = F.relu(F.max_pool2d(self.conv1(x), 2))\n",
    "        x = F.relu(F.max_pool2d(self.conv2_drop(self.conv2(x)), 2))\n",
    "        x = x.view(-1, 320)\n",
    "        x = F.relu(self.fc1(x))\n",
    "        x = F.dropout(x, training=self.training)\n",
    "        x = self.fc2(x)\n",
    "\n",
    "        return F.softmax(x)   "
   ]
  },
  {
   "cell_type": "code",
   "execution_count": 10,
   "id": "4e0314c0-59b9-4df0-928c-102ac9322935",
   "metadata": {},
   "outputs": [],
   "source": [
    "import torch\n",
    "device = torch.device('cuda' if torch.cuda.is_available() else 'cpu')\n",
    "model = CNN().to(device)\n",
    "optimizer = optim.Adam(model.parameters(), lr=0.001)\n",
    "loss_fn = nn.CrossEntropyLoss()"
   ]
  },
  {
   "cell_type": "code",
   "execution_count": 11,
   "id": "e2b8dede-603e-4873-9a98-5c88802ef481",
   "metadata": {},
   "outputs": [],
   "source": [
    "def train(epoch):\n",
    "    model.train()\n",
    "    for batch_idx, (data, target) in enumerate(loaders['train']):\n",
    "        data, target = data.to(device), target.to(device)\n",
    "        optimizer.zero_grad()\n",
    "        output = model(data)\n",
    "        loss = loss_fn(output, target)\n",
    "        loss.backward()\n",
    "        optimizer.step()\n",
    "        if batch_idx % 20 == 0:\n",
    "            print(f\"Train Epoch: {epoch} [{batch_idx * len(data)} / {len(loaders['train'].dataset)} ({100 * batch_idx / len(loaders['train']):0f}%)]\\t{loss.item():.6f}\")"
   ]
  },
  {
   "cell_type": "code",
   "execution_count": 12,
   "id": "bafdbc81-bfb5-4171-9c7a-263e07f0f1bf",
   "metadata": {},
   "outputs": [],
   "source": [
    "def test():\n",
    "    model.eval()\n",
    "    test_loss = 0\n",
    "    correct = 0\n",
    "    with torch.no_grad():\n",
    "        for data, target in loaders['test']:\n",
    "            data, target = data.to(device), target.to(device)\n",
    "            output = model(data)\n",
    "            test_loss += loss_fn(output, target).item()\n",
    "            pred = output.argmax(dim=1, keepdim=True)\n",
    "            correct += pred.eq(target.view_as(pred)).sum().item()\n",
    "    test_loss /= len(loaders['test'].dataset)\n",
    "    print(f\"\\nTest set: Average loss: {test_loss: 0.4f}, Accuracy {correct}/{len(loaders['test'].dataset)}  ({100 * correct / len(loaders['test'].dataset):.0f}%\\n)\")"
   ]
  },
  {
   "cell_type": "code",
   "execution_count": 13,
   "id": "2bb2d52b-e3a7-4f91-ae35-12d9f61c5d90",
   "metadata": {},
   "outputs": [
    {
     "name": "stdout",
     "output_type": "stream",
     "text": [
      "Train Epoch: 1 [0 / 60000 (0.000000%)]\t2.302562\n",
      "Train Epoch: 1 [2000 / 60000 (3.333333%)]\t2.269933\n",
      "Train Epoch: 1 [4000 / 60000 (6.666667%)]\t2.139490\n",
      "Train Epoch: 1 [6000 / 60000 (10.000000%)]\t1.957441\n",
      "Train Epoch: 1 [8000 / 60000 (13.333333%)]\t1.884290\n",
      "Train Epoch: 1 [10000 / 60000 (16.666667%)]\t1.843177\n",
      "Train Epoch: 1 [12000 / 60000 (20.000000%)]\t1.741865\n",
      "Train Epoch: 1 [14000 / 60000 (23.333333%)]\t1.722999\n",
      "Train Epoch: 1 [16000 / 60000 (26.666667%)]\t1.745750\n",
      "Train Epoch: 1 [18000 / 60000 (30.000000%)]\t1.721895\n",
      "Train Epoch: 1 [20000 / 60000 (33.333333%)]\t1.711766\n",
      "Train Epoch: 1 [22000 / 60000 (36.666667%)]\t1.677298\n",
      "Train Epoch: 1 [24000 / 60000 (40.000000%)]\t1.666319\n",
      "Train Epoch: 1 [26000 / 60000 (43.333333%)]\t1.632143\n",
      "Train Epoch: 1 [28000 / 60000 (46.666667%)]\t1.675691\n",
      "Train Epoch: 1 [30000 / 60000 (50.000000%)]\t1.640498\n",
      "Train Epoch: 1 [32000 / 60000 (53.333333%)]\t1.651958\n",
      "Train Epoch: 1 [34000 / 60000 (56.666667%)]\t1.670948\n",
      "Train Epoch: 1 [36000 / 60000 (60.000000%)]\t1.638633\n",
      "Train Epoch: 1 [38000 / 60000 (63.333333%)]\t1.691288\n",
      "Train Epoch: 1 [40000 / 60000 (66.666667%)]\t1.620283\n",
      "Train Epoch: 1 [42000 / 60000 (70.000000%)]\t1.606911\n",
      "Train Epoch: 1 [44000 / 60000 (73.333333%)]\t1.617052\n",
      "Train Epoch: 1 [46000 / 60000 (76.666667%)]\t1.632857\n",
      "Train Epoch: 1 [48000 / 60000 (80.000000%)]\t1.629203\n",
      "Train Epoch: 1 [50000 / 60000 (83.333333%)]\t1.609511\n",
      "Train Epoch: 1 [52000 / 60000 (86.666667%)]\t1.632658\n",
      "Train Epoch: 1 [54000 / 60000 (90.000000%)]\t1.626097\n",
      "Train Epoch: 1 [56000 / 60000 (93.333333%)]\t1.612633\n",
      "Train Epoch: 1 [58000 / 60000 (96.666667%)]\t1.571664\n",
      "\n",
      "Test set: Average loss:  0.0153, Accuracy 9325/10000  (93%\n",
      ")\n",
      "Train Epoch: 2 [0 / 60000 (0.000000%)]\t1.562642\n",
      "Train Epoch: 2 [2000 / 60000 (3.333333%)]\t1.587170\n",
      "Train Epoch: 2 [4000 / 60000 (6.666667%)]\t1.651163\n",
      "Train Epoch: 2 [6000 / 60000 (10.000000%)]\t1.581725\n",
      "Train Epoch: 2 [8000 / 60000 (13.333333%)]\t1.595511\n",
      "Train Epoch: 2 [10000 / 60000 (16.666667%)]\t1.611641\n",
      "Train Epoch: 2 [12000 / 60000 (20.000000%)]\t1.577068\n",
      "Train Epoch: 2 [14000 / 60000 (23.333333%)]\t1.573596\n",
      "Train Epoch: 2 [16000 / 60000 (26.666667%)]\t1.574051\n",
      "Train Epoch: 2 [18000 / 60000 (30.000000%)]\t1.574448\n",
      "Train Epoch: 2 [20000 / 60000 (33.333333%)]\t1.616688\n",
      "Train Epoch: 2 [22000 / 60000 (36.666667%)]\t1.572802\n",
      "Train Epoch: 2 [24000 / 60000 (40.000000%)]\t1.632371\n",
      "Train Epoch: 2 [26000 / 60000 (43.333333%)]\t1.601146\n",
      "Train Epoch: 2 [28000 / 60000 (46.666667%)]\t1.588448\n",
      "Train Epoch: 2 [30000 / 60000 (50.000000%)]\t1.569198\n",
      "Train Epoch: 2 [32000 / 60000 (53.333333%)]\t1.552563\n",
      "Train Epoch: 2 [34000 / 60000 (56.666667%)]\t1.552913\n",
      "Train Epoch: 2 [36000 / 60000 (60.000000%)]\t1.522666\n",
      "Train Epoch: 2 [38000 / 60000 (63.333333%)]\t1.566081\n",
      "Train Epoch: 2 [40000 / 60000 (66.666667%)]\t1.569511\n",
      "Train Epoch: 2 [42000 / 60000 (70.000000%)]\t1.565671\n",
      "Train Epoch: 2 [44000 / 60000 (73.333333%)]\t1.613656\n",
      "Train Epoch: 2 [46000 / 60000 (76.666667%)]\t1.553435\n",
      "Train Epoch: 2 [48000 / 60000 (80.000000%)]\t1.544041\n",
      "Train Epoch: 2 [50000 / 60000 (83.333333%)]\t1.540973\n",
      "Train Epoch: 2 [52000 / 60000 (86.666667%)]\t1.588752\n",
      "Train Epoch: 2 [54000 / 60000 (90.000000%)]\t1.596006\n",
      "Train Epoch: 2 [56000 / 60000 (93.333333%)]\t1.569495\n",
      "Train Epoch: 2 [58000 / 60000 (96.666667%)]\t1.573535\n",
      "\n",
      "Test set: Average loss:  0.0151, Accuracy 9464/10000  (95%\n",
      ")\n",
      "Train Epoch: 3 [0 / 60000 (0.000000%)]\t1.611246\n",
      "Train Epoch: 3 [2000 / 60000 (3.333333%)]\t1.533368\n",
      "Train Epoch: 3 [4000 / 60000 (6.666667%)]\t1.565788\n",
      "Train Epoch: 3 [6000 / 60000 (10.000000%)]\t1.563359\n",
      "Train Epoch: 3 [8000 / 60000 (13.333333%)]\t1.543187\n",
      "Train Epoch: 3 [10000 / 60000 (16.666667%)]\t1.546824\n",
      "Train Epoch: 3 [12000 / 60000 (20.000000%)]\t1.528235\n",
      "Train Epoch: 3 [14000 / 60000 (23.333333%)]\t1.563505\n",
      "Train Epoch: 3 [16000 / 60000 (26.666667%)]\t1.548889\n",
      "Train Epoch: 3 [18000 / 60000 (30.000000%)]\t1.585286\n",
      "Train Epoch: 3 [20000 / 60000 (33.333333%)]\t1.594317\n",
      "Train Epoch: 3 [22000 / 60000 (36.666667%)]\t1.589997\n",
      "Train Epoch: 3 [24000 / 60000 (40.000000%)]\t1.529893\n",
      "Train Epoch: 3 [26000 / 60000 (43.333333%)]\t1.598157\n",
      "Train Epoch: 3 [28000 / 60000 (46.666667%)]\t1.603667\n",
      "Train Epoch: 3 [30000 / 60000 (50.000000%)]\t1.579551\n",
      "Train Epoch: 3 [32000 / 60000 (53.333333%)]\t1.549643\n",
      "Train Epoch: 3 [34000 / 60000 (56.666667%)]\t1.565536\n",
      "Train Epoch: 3 [36000 / 60000 (60.000000%)]\t1.589662\n",
      "Train Epoch: 3 [38000 / 60000 (63.333333%)]\t1.580817\n",
      "Train Epoch: 3 [40000 / 60000 (66.666667%)]\t1.602959\n",
      "Train Epoch: 3 [42000 / 60000 (70.000000%)]\t1.558043\n",
      "Train Epoch: 3 [44000 / 60000 (73.333333%)]\t1.563300\n",
      "Train Epoch: 3 [46000 / 60000 (76.666667%)]\t1.580009\n",
      "Train Epoch: 3 [48000 / 60000 (80.000000%)]\t1.566172\n",
      "Train Epoch: 3 [50000 / 60000 (83.333333%)]\t1.572199\n",
      "Train Epoch: 3 [52000 / 60000 (86.666667%)]\t1.554904\n",
      "Train Epoch: 3 [54000 / 60000 (90.000000%)]\t1.540372\n",
      "Train Epoch: 3 [56000 / 60000 (93.333333%)]\t1.576698\n",
      "Train Epoch: 3 [58000 / 60000 (96.666667%)]\t1.550933\n",
      "\n",
      "Test set: Average loss:  0.0151, Accuracy 9548/10000  (95%\n",
      ")\n",
      "Train Epoch: 4 [0 / 60000 (0.000000%)]\t1.573742\n",
      "Train Epoch: 4 [2000 / 60000 (3.333333%)]\t1.578996\n",
      "Train Epoch: 4 [4000 / 60000 (6.666667%)]\t1.563791\n",
      "Train Epoch: 4 [6000 / 60000 (10.000000%)]\t1.562813\n",
      "Train Epoch: 4 [8000 / 60000 (13.333333%)]\t1.521929\n",
      "Train Epoch: 4 [10000 / 60000 (16.666667%)]\t1.566442\n",
      "Train Epoch: 4 [12000 / 60000 (20.000000%)]\t1.531495\n",
      "Train Epoch: 4 [14000 / 60000 (23.333333%)]\t1.568337\n",
      "Train Epoch: 4 [16000 / 60000 (26.666667%)]\t1.567313\n",
      "Train Epoch: 4 [18000 / 60000 (30.000000%)]\t1.502142\n",
      "Train Epoch: 4 [20000 / 60000 (33.333333%)]\t1.540488\n",
      "Train Epoch: 4 [22000 / 60000 (36.666667%)]\t1.590410\n",
      "Train Epoch: 4 [24000 / 60000 (40.000000%)]\t1.571959\n",
      "Train Epoch: 4 [26000 / 60000 (43.333333%)]\t1.569402\n",
      "Train Epoch: 4 [28000 / 60000 (46.666667%)]\t1.591528\n",
      "Train Epoch: 4 [30000 / 60000 (50.000000%)]\t1.593603\n",
      "Train Epoch: 4 [32000 / 60000 (53.333333%)]\t1.539547\n",
      "Train Epoch: 4 [34000 / 60000 (56.666667%)]\t1.547101\n",
      "Train Epoch: 4 [36000 / 60000 (60.000000%)]\t1.565530\n",
      "Train Epoch: 4 [38000 / 60000 (63.333333%)]\t1.526837\n",
      "Train Epoch: 4 [40000 / 60000 (66.666667%)]\t1.507357\n",
      "Train Epoch: 4 [42000 / 60000 (70.000000%)]\t1.552674\n",
      "Train Epoch: 4 [44000 / 60000 (73.333333%)]\t1.522048\n",
      "Train Epoch: 4 [46000 / 60000 (76.666667%)]\t1.600214\n",
      "Train Epoch: 4 [48000 / 60000 (80.000000%)]\t1.589811\n",
      "Train Epoch: 4 [50000 / 60000 (83.333333%)]\t1.537110\n",
      "Train Epoch: 4 [52000 / 60000 (86.666667%)]\t1.533538\n",
      "Train Epoch: 4 [54000 / 60000 (90.000000%)]\t1.566832\n",
      "Train Epoch: 4 [56000 / 60000 (93.333333%)]\t1.548275\n",
      "Train Epoch: 4 [58000 / 60000 (96.666667%)]\t1.552557\n",
      "\n",
      "Test set: Average loss:  0.0150, Accuracy 9609/10000  (96%\n",
      ")\n",
      "Train Epoch: 5 [0 / 60000 (0.000000%)]\t1.566483\n",
      "Train Epoch: 5 [2000 / 60000 (3.333333%)]\t1.548833\n",
      "Train Epoch: 5 [4000 / 60000 (6.666667%)]\t1.572566\n",
      "Train Epoch: 5 [6000 / 60000 (10.000000%)]\t1.551741\n",
      "Train Epoch: 5 [8000 / 60000 (13.333333%)]\t1.523702\n",
      "Train Epoch: 5 [10000 / 60000 (16.666667%)]\t1.566928\n",
      "Train Epoch: 5 [12000 / 60000 (20.000000%)]\t1.565295\n",
      "Train Epoch: 5 [14000 / 60000 (23.333333%)]\t1.517895\n",
      "Train Epoch: 5 [16000 / 60000 (26.666667%)]\t1.538543\n",
      "Train Epoch: 5 [18000 / 60000 (30.000000%)]\t1.561346\n",
      "Train Epoch: 5 [20000 / 60000 (33.333333%)]\t1.505517\n",
      "Train Epoch: 5 [22000 / 60000 (36.666667%)]\t1.514475\n",
      "Train Epoch: 5 [24000 / 60000 (40.000000%)]\t1.518489\n",
      "Train Epoch: 5 [26000 / 60000 (43.333333%)]\t1.541363\n",
      "Train Epoch: 5 [28000 / 60000 (46.666667%)]\t1.562002\n",
      "Train Epoch: 5 [30000 / 60000 (50.000000%)]\t1.549289\n",
      "Train Epoch: 5 [32000 / 60000 (53.333333%)]\t1.513290\n",
      "Train Epoch: 5 [34000 / 60000 (56.666667%)]\t1.557597\n",
      "Train Epoch: 5 [36000 / 60000 (60.000000%)]\t1.550978\n",
      "Train Epoch: 5 [38000 / 60000 (63.333333%)]\t1.517218\n",
      "Train Epoch: 5 [40000 / 60000 (66.666667%)]\t1.571719\n",
      "Train Epoch: 5 [42000 / 60000 (70.000000%)]\t1.484758\n",
      "Train Epoch: 5 [44000 / 60000 (73.333333%)]\t1.537704\n",
      "Train Epoch: 5 [46000 / 60000 (76.666667%)]\t1.526378\n",
      "Train Epoch: 5 [48000 / 60000 (80.000000%)]\t1.548336\n",
      "Train Epoch: 5 [50000 / 60000 (83.333333%)]\t1.517210\n",
      "Train Epoch: 5 [52000 / 60000 (86.666667%)]\t1.529206\n",
      "Train Epoch: 5 [54000 / 60000 (90.000000%)]\t1.527120\n",
      "Train Epoch: 5 [56000 / 60000 (93.333333%)]\t1.546990\n",
      "Train Epoch: 5 [58000 / 60000 (96.666667%)]\t1.510358\n",
      "\n",
      "Test set: Average loss:  0.0150, Accuracy 9627/10000  (96%\n",
      ")\n",
      "Train Epoch: 6 [0 / 60000 (0.000000%)]\t1.562870\n",
      "Train Epoch: 6 [2000 / 60000 (3.333333%)]\t1.534477\n",
      "Train Epoch: 6 [4000 / 60000 (6.666667%)]\t1.522600\n",
      "Train Epoch: 6 [6000 / 60000 (10.000000%)]\t1.526793\n",
      "Train Epoch: 6 [8000 / 60000 (13.333333%)]\t1.532256\n",
      "Train Epoch: 6 [10000 / 60000 (16.666667%)]\t1.542912\n",
      "Train Epoch: 6 [12000 / 60000 (20.000000%)]\t1.574992\n",
      "Train Epoch: 6 [14000 / 60000 (23.333333%)]\t1.556598\n",
      "Train Epoch: 6 [16000 / 60000 (26.666667%)]\t1.505414\n",
      "Train Epoch: 6 [18000 / 60000 (30.000000%)]\t1.572227\n",
      "Train Epoch: 6 [20000 / 60000 (33.333333%)]\t1.544828\n",
      "Train Epoch: 6 [22000 / 60000 (36.666667%)]\t1.533376\n",
      "Train Epoch: 6 [24000 / 60000 (40.000000%)]\t1.556780\n",
      "Train Epoch: 6 [26000 / 60000 (43.333333%)]\t1.556004\n",
      "Train Epoch: 6 [28000 / 60000 (46.666667%)]\t1.545316\n",
      "Train Epoch: 6 [30000 / 60000 (50.000000%)]\t1.531664\n",
      "Train Epoch: 6 [32000 / 60000 (53.333333%)]\t1.557859\n",
      "Train Epoch: 6 [34000 / 60000 (56.666667%)]\t1.503726\n",
      "Train Epoch: 6 [36000 / 60000 (60.000000%)]\t1.567768\n",
      "Train Epoch: 6 [38000 / 60000 (63.333333%)]\t1.542096\n",
      "Train Epoch: 6 [40000 / 60000 (66.666667%)]\t1.580380\n",
      "Train Epoch: 6 [42000 / 60000 (70.000000%)]\t1.502830\n",
      "Train Epoch: 6 [44000 / 60000 (73.333333%)]\t1.561384\n",
      "Train Epoch: 6 [46000 / 60000 (76.666667%)]\t1.571303\n",
      "Train Epoch: 6 [48000 / 60000 (80.000000%)]\t1.577611\n",
      "Train Epoch: 6 [50000 / 60000 (83.333333%)]\t1.555114\n",
      "Train Epoch: 6 [52000 / 60000 (86.666667%)]\t1.538800\n",
      "Train Epoch: 6 [54000 / 60000 (90.000000%)]\t1.500363\n",
      "Train Epoch: 6 [56000 / 60000 (93.333333%)]\t1.554086\n",
      "Train Epoch: 6 [58000 / 60000 (96.666667%)]\t1.544088\n",
      "\n",
      "Test set: Average loss:  0.0149, Accuracy 9672/10000  (97%\n",
      ")\n",
      "Train Epoch: 7 [0 / 60000 (0.000000%)]\t1.512091\n",
      "Train Epoch: 7 [2000 / 60000 (3.333333%)]\t1.566331\n",
      "Train Epoch: 7 [4000 / 60000 (6.666667%)]\t1.562957\n",
      "Train Epoch: 7 [6000 / 60000 (10.000000%)]\t1.485737\n",
      "Train Epoch: 7 [8000 / 60000 (13.333333%)]\t1.525166\n",
      "Train Epoch: 7 [10000 / 60000 (16.666667%)]\t1.515075\n",
      "Train Epoch: 7 [12000 / 60000 (20.000000%)]\t1.519075\n",
      "Train Epoch: 7 [14000 / 60000 (23.333333%)]\t1.498304\n",
      "Train Epoch: 7 [16000 / 60000 (26.666667%)]\t1.534347\n",
      "Train Epoch: 7 [18000 / 60000 (30.000000%)]\t1.535019\n",
      "Train Epoch: 7 [20000 / 60000 (33.333333%)]\t1.543929\n",
      "Train Epoch: 7 [22000 / 60000 (36.666667%)]\t1.515215\n",
      "Train Epoch: 7 [24000 / 60000 (40.000000%)]\t1.573781\n",
      "Train Epoch: 7 [26000 / 60000 (43.333333%)]\t1.542823\n",
      "Train Epoch: 7 [28000 / 60000 (46.666667%)]\t1.511461\n",
      "Train Epoch: 7 [30000 / 60000 (50.000000%)]\t1.514421\n",
      "Train Epoch: 7 [32000 / 60000 (53.333333%)]\t1.501830\n",
      "Train Epoch: 7 [34000 / 60000 (56.666667%)]\t1.587406\n",
      "Train Epoch: 7 [36000 / 60000 (60.000000%)]\t1.525923\n",
      "Train Epoch: 7 [38000 / 60000 (63.333333%)]\t1.531143\n",
      "Train Epoch: 7 [40000 / 60000 (66.666667%)]\t1.529109\n",
      "Train Epoch: 7 [42000 / 60000 (70.000000%)]\t1.524926\n",
      "Train Epoch: 7 [44000 / 60000 (73.333333%)]\t1.533905\n",
      "Train Epoch: 7 [46000 / 60000 (76.666667%)]\t1.568410\n",
      "Train Epoch: 7 [48000 / 60000 (80.000000%)]\t1.519249\n",
      "Train Epoch: 7 [50000 / 60000 (83.333333%)]\t1.505852\n",
      "Train Epoch: 7 [52000 / 60000 (86.666667%)]\t1.566646\n",
      "Train Epoch: 7 [54000 / 60000 (90.000000%)]\t1.574355\n",
      "Train Epoch: 7 [56000 / 60000 (93.333333%)]\t1.490207\n",
      "Train Epoch: 7 [58000 / 60000 (96.666667%)]\t1.516281\n",
      "\n",
      "Test set: Average loss:  0.0149, Accuracy 9682/10000  (97%\n",
      ")\n",
      "Train Epoch: 8 [0 / 60000 (0.000000%)]\t1.536903\n",
      "Train Epoch: 8 [2000 / 60000 (3.333333%)]\t1.504703\n",
      "Train Epoch: 8 [4000 / 60000 (6.666667%)]\t1.528678\n",
      "Train Epoch: 8 [6000 / 60000 (10.000000%)]\t1.534339\n",
      "Train Epoch: 8 [8000 / 60000 (13.333333%)]\t1.511669\n",
      "Train Epoch: 8 [10000 / 60000 (16.666667%)]\t1.513235\n",
      "Train Epoch: 8 [12000 / 60000 (20.000000%)]\t1.526758\n",
      "Train Epoch: 8 [14000 / 60000 (23.333333%)]\t1.523396\n",
      "Train Epoch: 8 [16000 / 60000 (26.666667%)]\t1.552107\n",
      "Train Epoch: 8 [18000 / 60000 (30.000000%)]\t1.498813\n",
      "Train Epoch: 8 [20000 / 60000 (33.333333%)]\t1.541772\n",
      "Train Epoch: 8 [22000 / 60000 (36.666667%)]\t1.522115\n",
      "Train Epoch: 8 [24000 / 60000 (40.000000%)]\t1.572662\n",
      "Train Epoch: 8 [26000 / 60000 (43.333333%)]\t1.496627\n",
      "Train Epoch: 8 [28000 / 60000 (46.666667%)]\t1.513255\n",
      "Train Epoch: 8 [30000 / 60000 (50.000000%)]\t1.524233\n",
      "Train Epoch: 8 [32000 / 60000 (53.333333%)]\t1.516760\n",
      "Train Epoch: 8 [34000 / 60000 (56.666667%)]\t1.504570\n",
      "Train Epoch: 8 [36000 / 60000 (60.000000%)]\t1.530250\n",
      "Train Epoch: 8 [38000 / 60000 (63.333333%)]\t1.536214\n",
      "Train Epoch: 8 [40000 / 60000 (66.666667%)]\t1.508293\n",
      "Train Epoch: 8 [42000 / 60000 (70.000000%)]\t1.536562\n",
      "Train Epoch: 8 [44000 / 60000 (73.333333%)]\t1.542534\n",
      "Train Epoch: 8 [46000 / 60000 (76.666667%)]\t1.521413\n",
      "Train Epoch: 8 [48000 / 60000 (80.000000%)]\t1.509144\n",
      "Train Epoch: 8 [50000 / 60000 (83.333333%)]\t1.510297\n",
      "Train Epoch: 8 [52000 / 60000 (86.666667%)]\t1.533679\n",
      "Train Epoch: 8 [54000 / 60000 (90.000000%)]\t1.531274\n",
      "Train Epoch: 8 [56000 / 60000 (93.333333%)]\t1.531450\n",
      "Train Epoch: 8 [58000 / 60000 (96.666667%)]\t1.538442\n",
      "\n",
      "Test set: Average loss:  0.0149, Accuracy 9715/10000  (97%\n",
      ")\n",
      "Train Epoch: 9 [0 / 60000 (0.000000%)]\t1.514470\n",
      "Train Epoch: 9 [2000 / 60000 (3.333333%)]\t1.505839\n",
      "Train Epoch: 9 [4000 / 60000 (6.666667%)]\t1.540344\n",
      "Train Epoch: 9 [6000 / 60000 (10.000000%)]\t1.536687\n",
      "Train Epoch: 9 [8000 / 60000 (13.333333%)]\t1.555689\n",
      "Train Epoch: 9 [10000 / 60000 (16.666667%)]\t1.539677\n",
      "Train Epoch: 9 [12000 / 60000 (20.000000%)]\t1.525170\n",
      "Train Epoch: 9 [14000 / 60000 (23.333333%)]\t1.532183\n",
      "Train Epoch: 9 [16000 / 60000 (26.666667%)]\t1.513101\n",
      "Train Epoch: 9 [18000 / 60000 (30.000000%)]\t1.569777\n",
      "Train Epoch: 9 [20000 / 60000 (33.333333%)]\t1.531987\n",
      "Train Epoch: 9 [22000 / 60000 (36.666667%)]\t1.511821\n",
      "Train Epoch: 9 [24000 / 60000 (40.000000%)]\t1.571440\n",
      "Train Epoch: 9 [26000 / 60000 (43.333333%)]\t1.482316\n",
      "Train Epoch: 9 [28000 / 60000 (46.666667%)]\t1.562366\n",
      "Train Epoch: 9 [30000 / 60000 (50.000000%)]\t1.521810\n",
      "Train Epoch: 9 [32000 / 60000 (53.333333%)]\t1.576089\n",
      "Train Epoch: 9 [34000 / 60000 (56.666667%)]\t1.556996\n",
      "Train Epoch: 9 [36000 / 60000 (60.000000%)]\t1.538774\n",
      "Train Epoch: 9 [38000 / 60000 (63.333333%)]\t1.572418\n",
      "Train Epoch: 9 [40000 / 60000 (66.666667%)]\t1.531631\n",
      "Train Epoch: 9 [42000 / 60000 (70.000000%)]\t1.613509\n",
      "Train Epoch: 9 [44000 / 60000 (73.333333%)]\t1.521846\n",
      "Train Epoch: 9 [46000 / 60000 (76.666667%)]\t1.522912\n",
      "Train Epoch: 9 [48000 / 60000 (80.000000%)]\t1.508059\n",
      "Train Epoch: 9 [50000 / 60000 (83.333333%)]\t1.511383\n",
      "Train Epoch: 9 [52000 / 60000 (86.666667%)]\t1.521270\n",
      "Train Epoch: 9 [54000 / 60000 (90.000000%)]\t1.568091\n",
      "Train Epoch: 9 [56000 / 60000 (93.333333%)]\t1.536630\n",
      "Train Epoch: 9 [58000 / 60000 (96.666667%)]\t1.560957\n",
      "\n",
      "Test set: Average loss:  0.0149, Accuracy 9719/10000  (97%\n",
      ")\n",
      "Train Epoch: 10 [0 / 60000 (0.000000%)]\t1.560754\n",
      "Train Epoch: 10 [2000 / 60000 (3.333333%)]\t1.534707\n",
      "Train Epoch: 10 [4000 / 60000 (6.666667%)]\t1.524078\n",
      "Train Epoch: 10 [6000 / 60000 (10.000000%)]\t1.503011\n",
      "Train Epoch: 10 [8000 / 60000 (13.333333%)]\t1.553454\n",
      "Train Epoch: 10 [10000 / 60000 (16.666667%)]\t1.548506\n",
      "Train Epoch: 10 [12000 / 60000 (20.000000%)]\t1.530962\n",
      "Train Epoch: 10 [14000 / 60000 (23.333333%)]\t1.499466\n",
      "Train Epoch: 10 [16000 / 60000 (26.666667%)]\t1.507264\n",
      "Train Epoch: 10 [18000 / 60000 (30.000000%)]\t1.512827\n",
      "Train Epoch: 10 [20000 / 60000 (33.333333%)]\t1.509864\n",
      "Train Epoch: 10 [22000 / 60000 (36.666667%)]\t1.543836\n",
      "Train Epoch: 10 [24000 / 60000 (40.000000%)]\t1.531907\n",
      "Train Epoch: 10 [26000 / 60000 (43.333333%)]\t1.538983\n",
      "Train Epoch: 10 [28000 / 60000 (46.666667%)]\t1.557668\n",
      "Train Epoch: 10 [30000 / 60000 (50.000000%)]\t1.505560\n",
      "Train Epoch: 10 [32000 / 60000 (53.333333%)]\t1.542742\n",
      "Train Epoch: 10 [34000 / 60000 (56.666667%)]\t1.548607\n",
      "Train Epoch: 10 [36000 / 60000 (60.000000%)]\t1.492108\n",
      "Train Epoch: 10 [38000 / 60000 (63.333333%)]\t1.514792\n",
      "Train Epoch: 10 [40000 / 60000 (66.666667%)]\t1.526891\n",
      "Train Epoch: 10 [42000 / 60000 (70.000000%)]\t1.513499\n",
      "Train Epoch: 10 [44000 / 60000 (73.333333%)]\t1.504082\n",
      "Train Epoch: 10 [46000 / 60000 (76.666667%)]\t1.543856\n",
      "Train Epoch: 10 [48000 / 60000 (80.000000%)]\t1.553612\n",
      "Train Epoch: 10 [50000 / 60000 (83.333333%)]\t1.540830\n",
      "Train Epoch: 10 [52000 / 60000 (86.666667%)]\t1.556607\n",
      "Train Epoch: 10 [54000 / 60000 (90.000000%)]\t1.520203\n",
      "Train Epoch: 10 [56000 / 60000 (93.333333%)]\t1.546939\n",
      "Train Epoch: 10 [58000 / 60000 (96.666667%)]\t1.535531\n",
      "\n",
      "Test set: Average loss:  0.0149, Accuracy 9722/10000  (97%\n",
      ")\n"
     ]
    }
   ],
   "source": [
    "for epoch in range(1, 11):\n",
    "    train(epoch)\n",
    "    test()"
   ]
  },
  {
   "cell_type": "code",
   "execution_count": 16,
   "id": "da04e652-64fe-4e3d-9352-cc40171b5e01",
   "metadata": {},
   "outputs": [
    {
     "name": "stdout",
     "output_type": "stream",
     "text": [
      "Prediction: 7\n"
     ]
    },
    {
     "data": {
      "image/png": "[encoded data removed]",
      "text/plain": [
       "<Figure size 640x480 with 1 Axes>"
      ]
     },
     "metadata": {},
     "output_type": "display_data"
    }
   ],
   "source": [
    "import matplotlib.pyplot as plt\n",
    "model.eval()\n",
    "data, target = test_data[0]\n",
    "data = data.unsqueeze(0).to(device)\n",
    "output = model(data)\n",
    "prediction = output.argmax(dim=1, keepdim=True).item()\n",
    "print(f\"Prediction: {prediction}\")\n",
    "image = data.squeeze(0).squeeze(0).numpy()\n",
    "\n",
    "plt.imshow(image);"
   ]
  },
  {
   "cell_type": "code",
   "execution_count": 15,
   "id": "cce7ae3d-c73e-496f-aabb-4e5e66163e42",
   "metadata": {},
   "outputs": [
    {
     "name": "stdout",
     "output_type": "stream",
     "text": [
      "Prediction: 7\n"
     ]
    },
    {
     "data": {
      "image/png": "[encoded data removed]",
      "text/plain": [
       "<Figure size 640x480 with 1 Axes>"
      ]
     },
     "metadata": {},
     "output_type": "display_data"
    }
   ],
   "source": [
    "import matplotlib.pyplot as plt\n",
    "model.eval()\n",
    "data, target = test_data[1]\n",
    "data = data.unsqueeze(0).to(device)\n",
    "output = model(data)\n",
    "prediction = output.argmax(dim=1, keepdim=True).item()\n",
    "print(f\"Prediction: {prediction}\")\n",
    "image = data.squeeze(0).squeeze(0).numpy()\n",
    "\n",
    "plt.imshow(image);"
   ]
  },
  {
   "cell_type": "code",
   "execution_count": 18,
   "id": "d1d1dc34-94e3-4325-8e2e-d57271ebb80c",
   "metadata": {},
   "outputs": [
    {
     "name": "stdout",
     "output_type": "stream",
     "text": [
      "Prediction: 1\n"
     ]
    },
    {
     "data": {
      "image/png": "[encoded data removed]",
      "text/plain": [
       "<Figure size 640x480 with 1 Axes>"
      ]
     },
     "metadata": {},
     "output_type": "display_data"
    }
   ],
   "source": [
    "import matplotlib.pyplot as plt\n",
    "model.eval()\n",
    "data, target = test_data[2]\n",
    "data = data.unsqueeze(0).to(device)\n",
    "output = model(data)\n",
    "prediction = output.argmax(dim=1, keepdim=True).item()\n",
    "print(f\"Prediction: {prediction}\")\n",
    "image = data.squeeze(0).squeeze(0).numpy()\n",
    "\n",
    "plt.imshow(image);"
   ]
  },
  {
   "cell_type": "code",
   "execution_count": 21,
   "id": "835f5bf5-9ecc-40aa-9b7c-6da7c121a079",
   "metadata": {},
   "outputs": [
    {
     "name": "stdout",
     "output_type": "stream",
     "text": [
      "Prediction: 4\n"
     ]
    },
    {
     "data": {
      "image/png": "[encoded data removed]",
      "text/plain": [
       "<Figure size 640x480 with 1 Axes>"
      ]
     },
     "metadata": {},
     "output_type": "display_data"
    }
   ],
   "source": [
    "import matplotlib.pyplot as plt\n",
    "model.eval()\n",
    "data, target = test_data[4]\n",
    "data = data.unsqueeze(0).to(device)\n",
    "output = model(data)\n",
    "prediction = output.argmax(dim=1, keepdim=True).item()\n",
    "print(f\"Prediction: {prediction}\")\n",
    "image = data.squeeze(0).squeeze(0).numpy()\n",
    "\n",
    "plt.imshow(image);"
   ]
  },
  {
   "cell_type": "code",
   "execution_count": 22,
   "id": "e97a42a7-d325-45bf-8df1-066f52a8e336",
   "metadata": {},
   "outputs": [
    {
     "name": "stdout",
     "output_type": "stream",
     "text": [
      "Prediction: 9\n"
     ]
    },
    {
     "data": {
      "image/png": "[encoded data removed]",
      "text/plain": [
       "<Figure size 640x480 with 1 Axes>"
      ]
     },
     "metadata": {},
     "output_type": "display_data"
    }
   ],
   "source": [
    "import matplotlib.pyplot as plt\n",
    "model.eval()\n",
    "data, target = test_data[20]\n",
    "data = data.unsqueeze(0).to(device)\n",
    "output = model(data)\n",
    "prediction = output.argmax(dim=1, keepdim=True).item()\n",
    "print(f\"Prediction: {prediction}\")\n",
    "image = data.squeeze(0).squeeze(0).numpy()\n",
    "\n",
    "plt.imshow(image);"
   ]
  },
  {
   "cell_type": "code",
   "execution_count": 23,
   "id": "76b8c135-9a6c-4042-8464-041b880ed499",
   "metadata": {},
   "outputs": [
    {
     "name": "stdout",
     "output_type": "stream",
     "text": [
      "Prediction: 6\n"
     ]
    },
    {
     "data": {
      "image/png": "[encoded data removed]",
      "text/plain": [
       "<Figure size 640x480 with 1 Axes>"
      ]
     },
     "metadata": {},
     "output_type": "display_data"
    }
   ],
   "source": [
    "import matplotlib.pyplot as plt\n",
    "model.eval()\n",
    "data, target = test_data[11]\n",
    "data = data.unsqueeze(0).to(device)\n",
    "output = model(data)\n",
    "prediction = output.argmax(dim=1, keepdim=True).item()\n",
    "print(f\"Prediction: {prediction}\")\n",
    "image = data.squeeze(0).squeeze(0).numpy()\n",
    "\n",
    "plt.imshow(image);"
   ]
  },
  {
   "cell_type": "code",
   "execution_count": 24,
   "id": "62571dac-07e4-4c61-8a26-5b21d2c75b44",
   "metadata": {},
   "outputs": [
    {
     "data": {
      "text/plain": [
       "tensor([[[[[0.0000, 0.0000, 0.0000, 0.0000, 0.0000, 0.0000, 0.0000, 0.0000,\n",
       "            0.0000, 0.0000, 0.0000, 0.0000, 0.0000, 0.0000, 0.0000, 0.0000,\n",
       "            0.0000, 0.0000, 0.0000, 0.0000, 0.0000, 0.0000, 0.0000, 0.0000,\n",
       "            0.0000, 0.0000, 0.0000, 0.0000],\n",
       "           [0.0000, 0.0000, 0.0000, 0.0000, 0.0000, 0.0000, 0.0000, 0.0000,\n",
       "            0.0000, 0.0000, 0.0000, 0.0000, 0.0000, 0.0000, 0.0000, 0.0000,\n",
       "            0.0000, 0.0000, 0.0000, 0.0000, 0.0000, 0.0000, 0.0000, 0.0000,\n",
       "            0.0000, 0.0000, 0.0000, 0.0000],\n",
       "           [0.0000, 0.0000, 0.0000, 0.0000, 0.0000, 0.0000, 0.0000, 0.0000,\n",
       "            0.0000, 0.0000, 0.0000, 0.0000, 0.0000, 0.0000, 0.0000, 0.0000,\n",
       "            0.0000, 0.0000, 0.0000, 0.0000, 0.0000, 0.0000, 0.0000, 0.0000,\n",
       "            0.0000, 0.0000, 0.0000, 0.0000],\n",
       "           [0.0000, 0.0000, 0.0000, 0.0000, 0.0000, 0.0000, 0.0000, 0.0000,\n",
       "            0.0000, 0.0000, 0.0275, 0.8000, 0.9922, 0.6902, 0.0000, 0.0000,\n",
       "            0.0000, 0.0000, 0.0000, 0.0000, 0.0000, 0.0000, 0.0000, 0.0000,\n",
       "            0.0000, 0.0000, 0.0000, 0.0000],\n",
       "           [0.0000, 0.0000, 0.0000, 0.0000, 0.0000, 0.0000, 0.0000, 0.0000,\n",
       "            0.0000, 0.0275, 0.5882, 0.9882, 0.9882, 0.4902, 0.0000, 0.0000,\n",
       "            0.0000, 0.0000, 0.0000, 0.0000, 0.0000, 0.0000, 0.0000, 0.0000,\n",
       "            0.0000, 0.0000, 0.0000, 0.0000],\n",
       "           [0.0000, 0.0000, 0.0000, 0.0000, 0.0000, 0.0000, 0.0000, 0.0000,\n",
       "            0.0000, 0.4588, 0.9882, 0.7294, 0.2196, 0.0000, 0.0000, 0.0000,\n",
       "            0.0000, 0.0000, 0.0000, 0.0000, 0.0000, 0.0000, 0.0000, 0.0000,\n",
       "            0.0000, 0.0000, 0.0000, 0.0000],\n",
       "           [0.0000, 0.0000, 0.0000, 0.0000, 0.0000, 0.0000, 0.0000, 0.0000,\n",
       "            0.0000, 0.5529, 0.9882, 0.4627, 0.0000, 0.0000, 0.0000, 0.0000,\n",
       "            0.0000, 0.0000, 0.0000, 0.0000, 0.0000, 0.0000, 0.0000, 0.0000,\n",
       "            0.0000, 0.0000, 0.0000, 0.0000],\n",
       "           [0.0000, 0.0000, 0.0000, 0.0000, 0.0000, 0.0000, 0.0000, 0.0000,\n",
       "            0.0000, 0.6039, 0.9686, 0.1961, 0.0000, 0.0000, 0.0000, 0.0000,\n",
       "            0.0000, 0.0000, 0.0000, 0.0000, 0.0000, 0.0000, 0.0000, 0.0000,\n",
       "            0.0000, 0.0000, 0.0000, 0.0000],\n",
       "           [0.0000, 0.0000, 0.0000, 0.0000, 0.0000, 0.0000, 0.0000, 0.0000,\n",
       "            0.1020, 0.9922, 0.7686, 0.0000, 0.0000, 0.0000, 0.0000, 0.0000,\n",
       "            0.0000, 0.0000, 0.0000, 0.0000, 0.0000, 0.0000, 0.0000, 0.0000,\n",
       "            0.0000, 0.0000, 0.0000, 0.0000],\n",
       "           [0.0000, 0.0000, 0.0000, 0.0000, 0.0000, 0.0000, 0.0000, 0.0000,\n",
       "            0.5882, 0.9922, 0.7686, 0.0000, 0.0000, 0.0000, 0.0000, 0.0000,\n",
       "            0.0000, 0.0000, 0.2235, 0.3333, 0.3333, 0.1490, 0.0000, 0.0000,\n",
       "            0.0000, 0.0000, 0.0000, 0.0000],\n",
       "           [0.0000, 0.0000, 0.0000, 0.0000, 0.0000, 0.0000, 0.0000, 0.0000,\n",
       "            0.8824, 0.9922, 0.3765, 0.0000, 0.0000, 0.0000, 0.0000, 0.0000,\n",
       "            0.5922, 0.8863, 0.9529, 0.9882, 0.9882, 0.9333, 0.4902, 0.0000,\n",
       "            0.0000, 0.0000, 0.0000, 0.0000],\n",
       "           [0.0000, 0.0000, 0.0000, 0.0000, 0.0000, 0.0000, 0.0000, 0.0392,\n",
       "            0.8980, 0.8863, 0.0000, 0.0000, 0.0000, 0.0157, 0.2118, 0.8980,\n",
       "            0.9922, 1.0000, 0.9176, 0.6863, 0.8824, 1.0000, 0.8941, 0.1216,\n",
       "            0.0000, 0.0000, 0.0000, 0.0000],\n",
       "           [0.0000, 0.0000, 0.0000, 0.0000, 0.0000, 0.0000, 0.0000, 0.4314,\n",
       "            0.9882, 0.5882, 0.0000, 0.0000, 0.1020, 0.5020, 0.9882, 0.9882,\n",
       "            0.8902, 0.5255, 0.1098, 0.0000, 0.0000, 0.6980, 0.9882, 0.2196,\n",
       "            0.0000, 0.0000, 0.0000, 0.0000],\n",
       "           [0.0000, 0.0000, 0.0000, 0.0000, 0.0000, 0.0000, 0.0000, 0.6235,\n",
       "            0.9882, 0.4431, 0.0000, 0.0000, 0.5882, 0.9922, 0.9882, 0.7294,\n",
       "            0.1686, 0.0000, 0.0000, 0.0000, 0.0000, 0.5529, 0.9882, 0.2196,\n",
       "            0.0000, 0.0000, 0.0000, 0.0000],\n",
       "           [0.0000, 0.0000, 0.0000, 0.0000, 0.0000, 0.0000, 0.0000, 0.7255,\n",
       "            0.9882, 0.4431, 0.0000, 0.1490, 0.9294, 0.9922, 0.5922, 0.0235,\n",
       "            0.0000, 0.0000, 0.0000, 0.0000, 0.0000, 0.5529, 0.7922, 0.0235,\n",
       "            0.0000, 0.0000, 0.0000, 0.0000],\n",
       "           [0.0000, 0.0000, 0.0000, 0.0000, 0.0000, 0.0000, 0.0000, 0.7765,\n",
       "            0.9922, 0.4471, 0.0000, 0.5765, 0.9922, 0.6392, 0.0000, 0.0000,\n",
       "            0.0000, 0.0000, 0.0000, 0.0000, 0.0000, 0.6039, 0.7725, 0.0000,\n",
       "            0.0000, 0.0000, 0.0000, 0.0000],\n",
       "           [0.0000, 0.0000, 0.0000, 0.0000, 0.0000, 0.0000, 0.0000, 0.7725,\n",
       "            0.9882, 0.4431, 0.0000, 0.6745, 0.9882, 0.7373, 0.0000, 0.0000,\n",
       "            0.0000, 0.0000, 0.0000, 0.0000, 0.1020, 0.9922, 0.6706, 0.0000,\n",
       "            0.0000, 0.0000, 0.0000, 0.0000],\n",
       "           [0.0000, 0.0000, 0.0000, 0.0000, 0.0000, 0.0000, 0.0000, 0.7725,\n",
       "            0.9882, 0.4431, 0.0000, 0.0745, 0.9059, 0.9686, 0.4784, 0.0745,\n",
       "            0.0000, 0.0000, 0.0000, 0.0000, 0.7843, 0.9569, 0.2196, 0.0000,\n",
       "            0.0000, 0.0000, 0.0000, 0.0000],\n",
       "           [0.0000, 0.0000, 0.0000, 0.0000, 0.0000, 0.0000, 0.1020, 0.8706,\n",
       "            0.9882, 0.4431, 0.0000, 0.0000, 0.0980, 0.7961, 0.9882, 0.7569,\n",
       "            0.0510, 0.0000, 0.2980, 0.7843, 0.9765, 0.4902, 0.0000, 0.0000,\n",
       "            0.0000, 0.0000, 0.0000, 0.0000],\n",
       "           [0.0000, 0.0000, 0.0000, 0.0000, 0.0000, 0.0000, 0.0000, 0.7255,\n",
       "            0.9922, 0.7020, 0.0392, 0.0000, 0.0000, 0.0000, 0.2980, 0.1373,\n",
       "            0.1137, 0.6039, 0.9922, 0.9569, 0.4902, 0.0000, 0.0000, 0.0000,\n",
       "            0.0000, 0.0000, 0.0000, 0.0000],\n",
       "           [0.0000, 0.0000, 0.0000, 0.0000, 0.0000, 0.0000, 0.0000, 0.1098,\n",
       "            0.8196, 0.9922, 0.7686, 0.3216, 0.2235, 0.2235, 0.5137, 0.7725,\n",
       "            0.9882, 0.9922, 0.8392, 0.3176, 0.0000, 0.0000, 0.0000, 0.0000,\n",
       "            0.0000, 0.0000, 0.0000, 0.0000],\n",
       "           [0.0000, 0.0000, 0.0000, 0.0000, 0.0000, 0.0000, 0.0000, 0.0000,\n",
       "            0.0980, 0.8471, 0.9882, 0.9882, 0.9882, 0.9922, 0.9882, 0.9882,\n",
       "            0.9882, 0.6118, 0.0745, 0.0000, 0.0000, 0.0000, 0.0000, 0.0000,\n",
       "            0.0000, 0.0000, 0.0000, 0.0000],\n",
       "           [0.0000, 0.0000, 0.0000, 0.0000, 0.0000, 0.0000, 0.0000, 0.0000,\n",
       "            0.0000, 0.0627, 0.4039, 0.5451, 0.9412, 0.5490, 0.5451, 0.5451,\n",
       "            0.1569, 0.0000, 0.0000, 0.0000, 0.0000, 0.0000, 0.0000, 0.0000,\n",
       "            0.0000, 0.0000, 0.0000, 0.0000],\n",
       "           [0.0000, 0.0000, 0.0000, 0.0000, 0.0000, 0.0000, 0.0000, 0.0000,\n",
       "            0.0000, 0.0000, 0.0000, 0.0000, 0.0000, 0.0000, 0.0000, 0.0000,\n",
       "            0.0000, 0.0000, 0.0000, 0.0000, 0.0000, 0.0000, 0.0000, 0.0000,\n",
       "            0.0000, 0.0000, 0.0000, 0.0000],\n",
       "           [0.0000, 0.0000, 0.0000, 0.0000, 0.0000, 0.0000, 0.0000, 0.0000,\n",
       "            0.0000, 0.0000, 0.0000, 0.0000, 0.0000, 0.0000, 0.0000, 0.0000,\n",
       "            0.0000, 0.0000, 0.0000, 0.0000, 0.0000, 0.0000, 0.0000, 0.0000,\n",
       "            0.0000, 0.0000, 0.0000, 0.0000],\n",
       "           [0.0000, 0.0000, 0.0000, 0.0000, 0.0000, 0.0000, 0.0000, 0.0000,\n",
       "            0.0000, 0.0000, 0.0000, 0.0000, 0.0000, 0.0000, 0.0000, 0.0000,\n",
       "            0.0000, 0.0000, 0.0000, 0.0000, 0.0000, 0.0000, 0.0000, 0.0000,\n",
       "            0.0000, 0.0000, 0.0000, 0.0000],\n",
       "           [0.0000, 0.0000, 0.0000, 0.0000, 0.0000, 0.0000, 0.0000, 0.0000,\n",
       "            0.0000, 0.0000, 0.0000, 0.0000, 0.0000, 0.0000, 0.0000, 0.0000,\n",
       "            0.0000, 0.0000, 0.0000, 0.0000, 0.0000, 0.0000, 0.0000, 0.0000,\n",
       "            0.0000, 0.0000, 0.0000, 0.0000],\n",
       "           [0.0000, 0.0000, 0.0000, 0.0000, 0.0000, 0.0000, 0.0000, 0.0000,\n",
       "            0.0000, 0.0000, 0.0000, 0.0000, 0.0000, 0.0000, 0.0000, 0.0000,\n",
       "            0.0000, 0.0000, 0.0000, 0.0000, 0.0000, 0.0000, 0.0000, 0.0000,\n",
       "            0.0000, 0.0000, 0.0000, 0.0000]]]]])"
      ]
     },
     "execution_count": 24,
     "metadata": {},
     "output_type": "execute_result"
    }
   ],
   "source": [
    "data.unsqueeze(0)"
   ]
  },
  {
   "cell_type": "code",
   "execution_count": 25,
   "id": "6cad7739-0582-4c0a-97f9-23b482ab26d0",
   "metadata": {},
   "outputs": [
    {
     "data": {
      "text/plain": [
       "tensor([[1.4829e-17, 8.6890e-29, 1.8603e-37, 3.0404e-39, 5.0507e-18, 4.5067e-18,\n",
       "         1.0000e+00, 1.3381e-32, 1.1128e-23, 4.8850e-33]],\n",
       "       grad_fn=<SoftmaxBackward0>)"
      ]
     },
     "execution_count": 25,
     "metadata": {},
     "output_type": "execute_result"
    }
   ],
   "source": [
    "model(data)"
   ]
  }
 ],
 "metadata": {
  "kernelspec": {
   "display_name": "Python 3 (ipykernel)",
   "language": "python",
   "name": "python3"
  },
  "language_info": {
   "codemirror_mode": {
    "name": "ipython",
    "version": 3
   },
   "file_extension": ".py",
   "mimetype": "text/x-python",
   "name": "python",
   "nbconvert_exporter": "python",
   "pygments_lexer": "ipython3",
   "version": "3.11.4"
  }
 },
 "nbformat": 4,
 "nbformat_minor": 5
}
