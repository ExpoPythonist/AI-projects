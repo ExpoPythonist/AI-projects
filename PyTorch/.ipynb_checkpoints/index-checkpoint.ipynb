{
 "cells": [
  {
   "cell_type": "code",
   "execution_count": 6,
   "outputs": [
    {
     "ename": "ModuleNotFoundError",
     "evalue": "No module named 'torchvision'",
     "output_type": "error",
     "traceback": [
      "\u001B[1;31m---------------------------------------------------------------------------\u001B[0m",
      "\u001B[1;31mModuleNotFoundError\u001B[0m                       Traceback (most recent call last)",
      "Cell \u001B[1;32mIn[6], line 1\u001B[0m\n\u001B[1;32m----> 1\u001B[0m \u001B[38;5;28;01mfrom\u001B[39;00m \u001B[38;5;21;01mtorchvision\u001B[39;00m \u001B[38;5;28;01mimport\u001B[39;00m datasets\n\u001B[0;32m      2\u001B[0m \u001B[38;5;28;01mfrom\u001B[39;00m \u001B[38;5;21;01mtorchvision\u001B[39;00m\u001B[38;5;21;01m.\u001B[39;00m\u001B[38;5;21;01mtransforms\u001B[39;00m \u001B[38;5;28;01mimport\u001B[39;00m ToTensor\n\u001B[0;32m      3\u001B[0m \u001B[38;5;66;03m# Ignore deprecated warnings\u001B[39;00m\n",
      "\u001B[1;31mModuleNotFoundError\u001B[0m: No module named 'torchvision'"
     ]
    }
   ],
   "source": [
    "from torchvision import datasets\n",
    "from torchvision.transforms import ToTensor\n",
    "# Ignore deprecated warnings\n",
    "import warnings\n",
    "warnings.filterwarnings(\"ignore\", category=UserWarning)"
   ],
   "metadata": {
    "collapsed": false,
    "ExecuteTime": {
     "end_time": "2024-05-15T16:21:38.199908700Z",
     "start_time": "2024-05-15T16:21:38.164914600Z"
    }
   },
   "id": "f8403e77-68b3-47ef-a1c3-a90fc69557a0"
  },
  {
   "cell_type": "code",
   "execution_count": 5,
   "outputs": [
    {
     "ename": "NameError",
     "evalue": "name 'datasets' is not defined",
     "output_type": "error",
     "traceback": [
      "\u001B[1;31m---------------------------------------------------------------------------\u001B[0m",
      "\u001B[1;31mNameError\u001B[0m                                 Traceback (most recent call last)",
      "Cell \u001B[1;32mIn[5], line 1\u001B[0m\n\u001B[1;32m----> 1\u001B[0m train_data \u001B[38;5;241m=\u001B[39m \u001B[43mdatasets\u001B[49m\u001B[38;5;241m.\u001B[39mMNIST(\n\u001B[0;32m      2\u001B[0m     train \u001B[38;5;241m=\u001B[39m \u001B[38;5;28;01mTrue\u001B[39;00m,\n\u001B[0;32m      3\u001B[0m     transform \u001B[38;5;241m=\u001B[39m ToTensor(),\n\u001B[0;32m      4\u001B[0m     download \u001B[38;5;241m=\u001B[39m \u001B[38;5;28;01mTrue\u001B[39;00m\n\u001B[0;32m      5\u001B[0m )\n\u001B[0;32m      7\u001B[0m test_data \u001B[38;5;241m=\u001B[39m datasets\u001B[38;5;241m.\u001B[39mMNIST(\n\u001B[0;32m      8\u001B[0m     root \u001B[38;5;241m=\u001B[39m \u001B[38;5;124m'\u001B[39m\u001B[38;5;124mdata\u001B[39m\u001B[38;5;124m'\u001B[39m,\n\u001B[0;32m      9\u001B[0m     train \u001B[38;5;241m=\u001B[39m \u001B[38;5;28;01mFalse\u001B[39;00m,\n\u001B[0;32m     10\u001B[0m     transform \u001B[38;5;241m=\u001B[39m ToTensor(),\n\u001B[0;32m     11\u001B[0m     download \u001B[38;5;241m=\u001B[39m \u001B[38;5;28;01mTrue\u001B[39;00m\n\u001B[0;32m     12\u001B[0m )\n",
      "\u001B[1;31mNameError\u001B[0m: name 'datasets' is not defined"
     ]
    }
   ],
   "source": [
    "train_data = datasets.MNIST(\n",
    "    train = True,\n",
    "    transform = ToTensor(),\n",
    "    download = True\n",
    ")\n",
    "\n",
    "test_data = datasets.MNIST(\n",
    "    root = 'data',\n",
    "    train = False,\n",
    "    transform = ToTensor(),\n",
    "    download = True\n",
    ")"
   ],
   "metadata": {
    "collapsed": false,
    "ExecuteTime": {
     "end_time": "2024-05-15T15:28:39.328581100Z",
     "start_time": "2024-05-15T15:28:39.246581Z"
    }
   },
   "id": "dd301eac-122f-43b2-8f12-22c4a3f36d6a"
  },
  {
   "cell_type": "code",
   "execution_count": null,
   "outputs": [],
   "source": [
    "train_data"
   ],
   "metadata": {
    "collapsed": false,
    "ExecuteTime": {
     "start_time": "2024-05-15T15:27:18.494227300Z"
    }
   },
   "id": "783d243a46e79e7a"
  },
  {
   "cell_type": "code",
   "execution_count": null,
   "id": "43d4aaf1-6393-4344-9882-543d59a6f66e",
   "metadata": {
    "ExecuteTime": {
     "start_time": "2024-05-15T15:27:18.497228400Z"
    }
   },
   "outputs": [],
   "source": [
    "train_data.data.shape"
   ]
  },
  {
   "cell_type": "code",
   "execution_count": null,
   "id": "17e0b708-95f0-488e-9249-6b065b1ad9b0",
   "metadata": {
    "ExecuteTime": {
     "start_time": "2024-05-15T15:27:18.499228200Z"
    }
   },
   "outputs": [],
   "source": [
    "train_data.targets"
   ]
  },
  {
   "cell_type": "code",
   "execution_count": null,
   "id": "e1ab6692-8fef-429e-adda-78822d819ba9",
   "metadata": {
    "ExecuteTime": {
     "start_time": "2024-05-15T15:27:18.502228300Z"
    }
   },
   "outputs": [],
   "source": [
    "from torch.utils.data import DataLoader\n",
    "\n",
    "loaders = {\n",
    "    'train' : DataLoader(train_data,\n",
    "                         batch_size=100,\n",
    "                         shuffle=True,\n",
    "                         num_workers=1),\n",
    "    'test' : DataLoader(test_data,\n",
    "                        batch_size=100,\n",
    "                        shuffle=True,\n",
    "                        num_workers=1)\n",
    "}"
   ]
  },
  {
   "cell_type": "code",
   "execution_count": null,
   "id": "3062d9a3-a30d-4d6b-9774-1b844140d9fc",
   "metadata": {
    "ExecuteTime": {
     "start_time": "2024-05-15T15:27:18.504228Z"
    }
   },
   "outputs": [],
   "source": [
    "loaders"
   ]
  },
  {
   "cell_type": "code",
   "execution_count": null,
   "id": "47a769c9-cc8e-4448-a932-f032da0f580d",
   "metadata": {
    "ExecuteTime": {
     "start_time": "2024-05-15T15:27:18.506228Z"
    }
   },
   "outputs": [],
   "source": [
    "import torch.nn as nn\n",
    "import torch.nn.functional as F\n",
    "import torch.optim as optim"
   ]
  },
  {
   "cell_type": "code",
   "execution_count": null,
   "id": "d030f393-581c-41f2-8792-8f1e1fe2834a",
   "metadata": {
    "ExecuteTime": {
     "start_time": "2024-05-15T15:27:18.507227700Z"
    }
   },
   "outputs": [],
   "source": [
    "class CNN(nn.Module):\n",
    "\n",
    "    def __init__(self):\n",
    "        super(CNN, self).__init__()\n",
    "        \n",
    "        self.conv1 = nn.Conv2d(1, 10, kernel_size=5)\n",
    "        self.conv2 = nn.Conv2d(10, 20, kernel_size=5)\n",
    "        self.conv2_drop = nn.Dropout2d()\n",
    "        self.fc1 = nn.Linear(320, 50)\n",
    "        self.fc2 = nn.Linear(50, 10)\n",
    "\n",
    "    def forward(self, x):\n",
    "        x = F.relu(F.max_pool2d(self.conv1(x), 2))\n",
    "        x = F.relu(F.max_pool2d(self.conv2_drop(self.conv2(x)), 2))\n",
    "        x = x.view(-1, 320)\n",
    "        x = F.relu(self.fc1(x))\n",
    "        x = F.dropout(x, training=self.training)\n",
    "        x = self.fc2(x)\n",
    "\n",
    "        return F.softmax(x)   "
   ]
  },
  {
   "cell_type": "code",
   "execution_count": null,
   "id": "4e0314c0-59b9-4df0-928c-102ac9322935",
   "metadata": {
    "ExecuteTime": {
     "start_time": "2024-05-15T15:27:18.509228Z"
    }
   },
   "outputs": [],
   "source": [
    "import torch\n",
    "device = torch.device('cuda' if torch.cuda.is_available() else 'cpu')\n",
    "model = CNN().to(device)\n",
    "optimizer = optim.Adam(model.parameters(), lr=0.001)\n",
    "loss_fn = nn.CrossEntropyLoss()"
   ]
  },
  {
   "cell_type": "code",
   "execution_count": null,
   "id": "e2b8dede-603e-4873-9a98-5c88802ef481",
   "metadata": {
    "ExecuteTime": {
     "start_time": "2024-05-15T15:27:18.510228200Z"
    }
   },
   "outputs": [],
   "source": [
    "def train(epoch):\n",
    "    model.train()\n",
    "    for batch_idx, (data, target) in enumerate(loaders['train']):\n",
    "        data, target = data.to(device), target.to(device)\n",
    "        optimizer.zero_grad()\n",
    "        output = model(data)\n",
    "        loss = loss_fn(output, target)\n",
    "        loss.backward()\n",
    "        optimizer.step()\n",
    "        if batch_idx % 20 == 0:\n",
    "            print(f\"Train Epoch: {epoch} [{batch_idx * len(data)} / {len(loaders['train'].dataset)} ({100 * batch_idx / len(loaders['train']):0f}%)]\\t{loss.item():.6f}\")"
   ]
  },
  {
   "cell_type": "code",
   "execution_count": null,
   "id": "bafdbc81-bfb5-4171-9c7a-263e07f0f1bf",
   "metadata": {
    "ExecuteTime": {
     "start_time": "2024-05-15T15:27:18.512227600Z"
    }
   },
   "outputs": [],
   "source": [
    "def test():\n",
    "    model.eval()\n",
    "    test_loss = 0\n",
    "    correct = 0\n",
    "    with torch.no_grad():\n",
    "        for data, target in loaders['test']:\n",
    "            data, target = data.to(device), target.to(device)\n",
    "            output = model(data)\n",
    "            test_loss += loss_fn(output, target).item()\n",
    "            pred = output.argmax(dim=1, keepdim=True)\n",
    "            correct += pred.eq(target.view_as(pred)).sum().item()\n",
    "    test_loss /= len(loaders['test'].dataset)\n",
    "    print(f\"\\nTest set: Average loss: {test_loss: 0.4f}, Accuracy {correct}/{len(loaders['test'].dataset)}  ({100 * correct / len(loaders['test'].dataset):.0f}%\\n)\")"
   ]
  },
  {
   "cell_type": "code",
   "execution_count": null,
   "id": "2bb2d52b-e3a7-4f91-ae35-12d9f61c5d90",
   "metadata": {
    "ExecuteTime": {
     "end_time": "2024-05-15T15:27:18.535226Z",
     "start_time": "2024-05-15T15:27:18.513228200Z"
    }
   },
   "outputs": [],
   "source": [
    "for epoch in range(1, 11):\n",
    "    train(epoch)\n",
    "    test()"
   ]
  },
  {
   "cell_type": "code",
   "execution_count": null,
   "id": "da04e652-64fe-4e3d-9352-cc40171b5e01",
   "metadata": {
    "ExecuteTime": {
     "start_time": "2024-05-15T15:27:18.515227900Z"
    }
   },
   "outputs": [],
   "source": [
    "import matplotlib.pyplot as plt\n",
    "model.eval()\n",
    "data, target = test_data[0]\n",
    "data = data.unsqueeze(0).to(device)\n",
    "output = model(data)\n",
    "prediction = output.argmax(dim=1, keepdim=True).item()\n",
    "print(f\"Prediction: {prediction}\")\n",
    "image = data.squeeze(0).squeeze(0).numpy()\n",
    "\n",
    "plt.imshow(image);"
   ]
  },
  {
   "cell_type": "code",
   "execution_count": null,
   "outputs": [],
   "source": [],
   "metadata": {
    "collapsed": false,
    "ExecuteTime": {
     "start_time": "2024-05-15T15:27:18.516228800Z"
    }
   },
   "id": "d23a11f9f4aa5826"
  }
 ],
 "metadata": {
  "kernelspec": {
   "display_name": "Python 3 (ipykernel)",
   "language": "python",
   "name": "python3"
  },
  "language_info": {
   "codemirror_mode": {
    "name": "ipython",
    "version": 3
   },
   "file_extension": ".py",
   "mimetype": "text/x-python",
   "name": "python",
   "nbconvert_exporter": "python",
   "pygments_lexer": "ipython3",
   "version": "3.11.4"
  }
 },
 "nbformat": 4,
 "nbformat_minor": 5
}
